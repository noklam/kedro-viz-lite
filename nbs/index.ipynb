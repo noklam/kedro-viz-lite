{
 "cells": [
  {
   "cell_type": "code",
   "execution_count": null,
   "metadata": {},
   "outputs": [],
   "source": [
    "#| hide\n",
    "from kedro_viz_lite.core import *"
   ]
  },
  {
   "cell_type": "markdown",
   "metadata": {},
   "source": [
    "# kedro-viz-lite\n",
    "\n",
    "> Run kedro-viz in a notebook without a full Kedro Project."
   ]
  },
  {
   "cell_type": "markdown",
   "metadata": {},
   "source": [
    "This file will become your README and also the index of your documentation."
   ]
  },
  {
   "cell_type": "markdown",
   "metadata": {},
   "source": [
    "## Install"
   ]
  },
  {
   "cell_type": "markdown",
   "metadata": {},
   "source": [
    "```sh\n",
    "pip install kedro_viz_lite\n",
    "```"
   ]
  },
  {
   "cell_type": "markdown",
   "metadata": {},
   "source": [
    "# kedro-viz-lite\n",
    "\n",
    "Feature:\n",
    "- Visualise the Pipeline without a full Kedro project (Only Pipeline is needed!)\n",
    "- A notebook %magic that you can use to fire up kedro-viz without a full kedro project. (in development)\n",
    "\n",
    "# Why is this useful?\n",
    "Sometimes you just want to quickly verify your pipeline is constructed correctly without weird disconnected edges. This plugin offer two lightweight solutions.\n",
    "\n",
    "# How does it work?\n",
    "Kedro viz support a `--load-json` version. As long as the JSON is created correctly. Kedro-viz can plot the DAG.\n",
    "\n",
    "# Motivation\n",
    "My motivation is simple, I was writing this [blog post](https://noklam.github.io/blog/posts/understand_namespace/2023-09-26-understand-kedro-namespace-pipeline.html) explaining how namespace works in Kedro, and I found that I have to repeatly copy stuff from notebook to a dummy project just for the visualisation. Wouldn't it be great if there is something handy?"
   ]
  },
  {
   "cell_type": "markdown",
   "metadata": {},
   "source": []
  }
 ],
 "metadata": {
  "kernelspec": {
   "display_name": "python3",
   "language": "python",
   "name": "python3"
  }
 },
 "nbformat": 4,
 "nbformat_minor": 4
}
