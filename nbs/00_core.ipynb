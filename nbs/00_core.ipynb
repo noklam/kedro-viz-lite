{
 "cells": [
  {
   "cell_type": "markdown",
   "metadata": {},
   "source": [
    "# core\n",
    "\n",
    "> core module of kedro_viz_lite, `run_viz_lite`."
   ]
  },
  {
   "cell_type": "code",
   "execution_count": null,
   "metadata": {},
   "outputs": [],
   "source": [
    "#| default_exp core"
   ]
  },
  {
   "cell_type": "code",
   "execution_count": null,
   "metadata": {},
   "outputs": [],
   "source": [
    "#| hide\n",
    "from nbdev.showdoc import *"
   ]
  },
  {
   "cell_type": "code",
   "execution_count": 12,
   "metadata": {},
   "outputs": [],
   "source": [
    "#| export\n",
    "import logging\n",
    "from pathlib import Path\n",
    "from typing import Any, Dict, List, Optional, Union\n",
    "import multiprocessing\n",
    "import kedro_viz\n",
    "import orjson\n",
    "from fastapi.encoders import jsonable_encoder\n",
    "from fastapi.responses import JSONResponse, ORJSONResponse\n",
    "from kedro.io.data_catalog import DataCatalog\n",
    "from kedro_viz.api import apps\n",
    "from kedro_viz.api.rest.responses import (EnhancedORJSONResponse,\n",
    "                                          get_default_response)\n",
    "from kedro_viz.constants import DEFAULT_HOST, DEFAULT_PORT\n",
    "from kedro_viz.data_access import data_access_manager\n",
    "from kedro_viz.integrations.kedro.data_loader import load_data\n",
    "from kedro_viz.launchers.jupyter import (_DATABRICKS_HOST, _VIZ_PROCESSES,\n",
    "                                         _is_databricks, _allocate_port)\n",
    "from kedro_viz.launchers.utils import _wait_for, _check_viz_up,_is_localhost, _start_browser\n",
    "from kedro_viz.server import *\n",
    "from kedro_viz.launchers.jupyter import *\n",
    "def prepare_dag_json(pipelines, path=None):\n",
    "\n",
    "\n",
    "    catalog = DataCatalog()  # TODO: can take custom data catalog\n",
    "    if not isinstance(pipelines, dict):\n",
    "        pipelines = dict(default=pipelines)\n",
    "    populate_data(data_access_manager, catalog, pipelines, None, {})\n",
    "\n",
    "    default_response = get_default_response()\n",
    "    jsonable_default_response = jsonable_encoder(default_response)\n",
    "    encoded_default_response = EnhancedORJSONResponse.encode_to_human_readable(\n",
    "        jsonable_default_response\n",
    "    )\n",
    "    if not path:\n",
    "        path = \"dag.json\"\n",
    "    Path(path).write_bytes(encoded_default_response)\n",
    "    app = apps.create_api_app_from_project(\".\", False)"
   ]
  },
  {
   "cell_type": "code",
   "execution_count": 7,
   "metadata": {},
   "outputs": [
    {
     "data": {
      "text/html": [
       "<pre style=\"white-space:pre;overflow-x:auto;line-height:normal;font-family:Menlo,'DejaVu Sans Mono',consolas,'Courier New',monospace\"><span style=\"color: #7fbfbf; text-decoration-color: #7fbfbf\">[09/28/23 02:35:22] </span><span style=\"color: #800000; text-decoration-color: #800000\">WARNING </span> <span style=\"color: #800080; text-decoration-color: #800080\">/Users/Nok_Lam_Chan/miniconda3/envs/kedro_core/lib/python3.8/site-pack</span> <a href=\"file:///Users/Nok_Lam_Chan/miniconda3/envs/kedro_core/lib/python3.8/warnings.py\" target=\"_blank\"><span style=\"color: #7f7f7f; text-decoration-color: #7f7f7f\">warnings.py</span></a><span style=\"color: #7f7f7f; text-decoration-color: #7f7f7f\">:</span><a href=\"file:///Users/Nok_Lam_Chan/miniconda3/envs/kedro_core/lib/python3.8/warnings.py#109\" target=\"_blank\"><span style=\"color: #7f7f7f; text-decoration-color: #7f7f7f\">109</span></a>\n",
       "<span style=\"color: #7fbfbf; text-decoration-color: #7fbfbf\">                    </span>         <span style=\"color: #800080; text-decoration-color: #800080\">ages/matplotlib/</span><span style=\"color: #ff00ff; text-decoration-color: #ff00ff\">__init__.py</span>:<span style=\"color: #008080; text-decoration-color: #008080; font-weight: bold\">169</span>: DeprecationWarning: distutils Version <span style=\"color: #7f7f7f; text-decoration-color: #7f7f7f\">               </span>\n",
       "<span style=\"color: #7fbfbf; text-decoration-color: #7fbfbf\">                    </span>         classes are deprecated. Use packaging.version instead.                 <span style=\"color: #7f7f7f; text-decoration-color: #7f7f7f\">               </span>\n",
       "<span style=\"color: #7fbfbf; text-decoration-color: #7fbfbf\">                    </span>           if <span style=\"color: #800080; text-decoration-color: #800080; font-weight: bold\">LooseVersion</span><span style=\"font-weight: bold\">(</span>module.__version__<span style=\"font-weight: bold\">)</span> &lt; minver:                        <span style=\"color: #7f7f7f; text-decoration-color: #7f7f7f\">               </span>\n",
       "<span style=\"color: #7fbfbf; text-decoration-color: #7fbfbf\">                    </span>                                                                                <span style=\"color: #7f7f7f; text-decoration-color: #7f7f7f\">               </span>\n",
       "</pre>\n"
      ],
      "text/plain": [
       "\u001b[2;36m[09/28/23 02:35:22]\u001b[0m\u001b[2;36m \u001b[0m\u001b[31mWARNING \u001b[0m \u001b[35m/Users/Nok_Lam_Chan/miniconda3/envs/kedro_core/lib/python3.8/site-pack\u001b[0m \u001b]8;id=599612;file:///Users/Nok_Lam_Chan/miniconda3/envs/kedro_core/lib/python3.8/warnings.py\u001b\\\u001b[2mwarnings.py\u001b[0m\u001b]8;;\u001b\\\u001b[2m:\u001b[0m\u001b]8;id=730352;file:///Users/Nok_Lam_Chan/miniconda3/envs/kedro_core/lib/python3.8/warnings.py#109\u001b\\\u001b[2m109\u001b[0m\u001b]8;;\u001b\\\n",
       "\u001b[2;36m                    \u001b[0m         \u001b[35mages/matplotlib/\u001b[0m\u001b[95m__init__.py\u001b[0m:\u001b[1;36m169\u001b[0m: DeprecationWarning: distutils Version \u001b[2m               \u001b[0m\n",
       "\u001b[2;36m                    \u001b[0m         classes are deprecated. Use packaging.version instead.                 \u001b[2m               \u001b[0m\n",
       "\u001b[2;36m                    \u001b[0m           if \u001b[1;35mLooseVersion\u001b[0m\u001b[1m(\u001b[0mmodule.__version__\u001b[1m)\u001b[0m < minver:                        \u001b[2m               \u001b[0m\n",
       "\u001b[2;36m                    \u001b[0m                                                                                \u001b[2m               \u001b[0m\n"
      ]
     },
     "metadata": {},
     "output_type": "display_data"
    },
    {
     "data": {
      "text/html": [
       "<pre style=\"white-space:pre;overflow-x:auto;line-height:normal;font-family:Menlo,'DejaVu Sans Mono',consolas,'Courier New',monospace\"><span style=\"color: #7fbfbf; text-decoration-color: #7fbfbf\">                    </span><span style=\"color: #800000; text-decoration-color: #800000\">WARNING </span> <span style=\"color: #800080; text-decoration-color: #800080\">/Users/Nok_Lam_Chan/miniconda3/envs/kedro_core/lib/python3.8/site-pack</span> <a href=\"file:///Users/Nok_Lam_Chan/miniconda3/envs/kedro_core/lib/python3.8/warnings.py\" target=\"_blank\"><span style=\"color: #7f7f7f; text-decoration-color: #7f7f7f\">warnings.py</span></a><span style=\"color: #7f7f7f; text-decoration-color: #7f7f7f\">:</span><a href=\"file:///Users/Nok_Lam_Chan/miniconda3/envs/kedro_core/lib/python3.8/warnings.py#109\" target=\"_blank\"><span style=\"color: #7f7f7f; text-decoration-color: #7f7f7f\">109</span></a>\n",
       "<span style=\"color: #7fbfbf; text-decoration-color: #7fbfbf\">                    </span>         <span style=\"color: #800080; text-decoration-color: #800080\">ages/setuptools/_distutils/</span><span style=\"color: #ff00ff; text-decoration-color: #ff00ff\">version.py</span>:<span style=\"color: #008080; text-decoration-color: #008080; font-weight: bold\">345</span>: DeprecationWarning:         <span style=\"color: #7f7f7f; text-decoration-color: #7f7f7f\">               </span>\n",
       "<span style=\"color: #7fbfbf; text-decoration-color: #7fbfbf\">                    </span>         distutils Version classes are deprecated. Use packaging.version        <span style=\"color: #7f7f7f; text-decoration-color: #7f7f7f\">               </span>\n",
       "<span style=\"color: #7fbfbf; text-decoration-color: #7fbfbf\">                    </span>         instead.                                                               <span style=\"color: #7f7f7f; text-decoration-color: #7f7f7f\">               </span>\n",
       "<span style=\"color: #7fbfbf; text-decoration-color: #7fbfbf\">                    </span>           other = <span style=\"color: #800080; text-decoration-color: #800080; font-weight: bold\">LooseVersion</span><span style=\"font-weight: bold\">(</span>other<span style=\"font-weight: bold\">)</span>                                          <span style=\"color: #7f7f7f; text-decoration-color: #7f7f7f\">               </span>\n",
       "<span style=\"color: #7fbfbf; text-decoration-color: #7fbfbf\">                    </span>                                                                                <span style=\"color: #7f7f7f; text-decoration-color: #7f7f7f\">               </span>\n",
       "</pre>\n"
      ],
      "text/plain": [
       "\u001b[2;36m                   \u001b[0m\u001b[2;36m \u001b[0m\u001b[31mWARNING \u001b[0m \u001b[35m/Users/Nok_Lam_Chan/miniconda3/envs/kedro_core/lib/python3.8/site-pack\u001b[0m \u001b]8;id=337049;file:///Users/Nok_Lam_Chan/miniconda3/envs/kedro_core/lib/python3.8/warnings.py\u001b\\\u001b[2mwarnings.py\u001b[0m\u001b]8;;\u001b\\\u001b[2m:\u001b[0m\u001b]8;id=174444;file:///Users/Nok_Lam_Chan/miniconda3/envs/kedro_core/lib/python3.8/warnings.py#109\u001b\\\u001b[2m109\u001b[0m\u001b]8;;\u001b\\\n",
       "\u001b[2;36m                    \u001b[0m         \u001b[35mages/setuptools/_distutils/\u001b[0m\u001b[95mversion.py\u001b[0m:\u001b[1;36m345\u001b[0m: DeprecationWarning:         \u001b[2m               \u001b[0m\n",
       "\u001b[2;36m                    \u001b[0m         distutils Version classes are deprecated. Use packaging.version        \u001b[2m               \u001b[0m\n",
       "\u001b[2;36m                    \u001b[0m         instead.                                                               \u001b[2m               \u001b[0m\n",
       "\u001b[2;36m                    \u001b[0m           other = \u001b[1;35mLooseVersion\u001b[0m\u001b[1m(\u001b[0mother\u001b[1m)\u001b[0m                                          \u001b[2m               \u001b[0m\n",
       "\u001b[2;36m                    \u001b[0m                                                                                \u001b[2m               \u001b[0m\n"
      ]
     },
     "metadata": {},
     "output_type": "display_data"
    },
    {
     "data": {
      "text/html": [
       "<pre style=\"white-space:pre;overflow-x:auto;line-height:normal;font-family:Menlo,'DejaVu Sans Mono',consolas,'Courier New',monospace\"><span style=\"color: #7fbfbf; text-decoration-color: #7fbfbf\">[09/28/23 02:35:23] </span><span style=\"color: #800000; text-decoration-color: #800000\">WARNING </span>                                                                        <a href=\"file:///Users/Nok_Lam_Chan/miniconda3/envs/kedro_core/lib/python3.8/site-packages/matplotlib/__init__.py\" target=\"_blank\"><span style=\"color: #7f7f7f; text-decoration-color: #7f7f7f\">__init__.py</span></a><span style=\"color: #7f7f7f; text-decoration-color: #7f7f7f\">:</span><a href=\"file:///Users/Nok_Lam_Chan/miniconda3/envs/kedro_core/lib/python3.8/site-packages/matplotlib/__init__.py#858\" target=\"_blank\"><span style=\"color: #7f7f7f; text-decoration-color: #7f7f7f\">858</span></a>\n",
       "<span style=\"color: #7fbfbf; text-decoration-color: #7fbfbf\">                    </span>         Bad key axes.location in file                                          <span style=\"color: #7f7f7f; text-decoration-color: #7f7f7f\">               </span>\n",
       "<span style=\"color: #7fbfbf; text-decoration-color: #7fbfbf\">                    </span>         <span style=\"color: #800080; text-decoration-color: #800080\">/Users/Nok_Lam_Chan/miniconda3/envs/kedro_core/lib/python3.8/site-pack</span> <span style=\"color: #7f7f7f; text-decoration-color: #7f7f7f\">               </span>\n",
       "<span style=\"color: #7fbfbf; text-decoration-color: #7fbfbf\">                    </span>         <span style=\"color: #800080; text-decoration-color: #800080\">ages/matplotlib/mpl-data/stylelib/</span><span style=\"color: #ff00ff; text-decoration-color: #ff00ff\">presentation.mplstyle</span>, line <span style=\"color: #008080; text-decoration-color: #008080; font-weight: bold\">4</span>        <span style=\"color: #7f7f7f; text-decoration-color: #7f7f7f\">               </span>\n",
       "<span style=\"color: #7fbfbf; text-decoration-color: #7fbfbf\">                    </span>         <span style=\"font-weight: bold\">(</span><span style=\"color: #008000; text-decoration-color: #008000\">\"axes.location: 'left'\"</span><span style=\"font-weight: bold\">)</span>                                              <span style=\"color: #7f7f7f; text-decoration-color: #7f7f7f\">               </span>\n",
       "<span style=\"color: #7fbfbf; text-decoration-color: #7fbfbf\">                    </span>         You probably need to get an updated matplotlibrc file from             <span style=\"color: #7f7f7f; text-decoration-color: #7f7f7f\">               </span>\n",
       "<span style=\"color: #7fbfbf; text-decoration-color: #7fbfbf\">                    </span>         <span style=\"color: #0000ff; text-decoration-color: #0000ff; text-decoration: underline\">https://github.com/matplotlib/matplotlib/blob/v3.3.4/matplotlibrc.temp</span> <span style=\"color: #7f7f7f; text-decoration-color: #7f7f7f\">               </span>\n",
       "<span style=\"color: #7fbfbf; text-decoration-color: #7fbfbf\">                    </span>         <span style=\"color: #0000ff; text-decoration-color: #0000ff; text-decoration: underline\">late</span>                                                                   <span style=\"color: #7f7f7f; text-decoration-color: #7f7f7f\">               </span>\n",
       "<span style=\"color: #7fbfbf; text-decoration-color: #7fbfbf\">                    </span>         or from the matplotlib source distribution                             <span style=\"color: #7f7f7f; text-decoration-color: #7f7f7f\">               </span>\n",
       "</pre>\n"
      ],
      "text/plain": [
       "\u001b[2;36m[09/28/23 02:35:23]\u001b[0m\u001b[2;36m \u001b[0m\u001b[31mWARNING \u001b[0m                                                                        \u001b]8;id=838393;file:///Users/Nok_Lam_Chan/miniconda3/envs/kedro_core/lib/python3.8/site-packages/matplotlib/__init__.py\u001b\\\u001b[2m__init__.py\u001b[0m\u001b]8;;\u001b\\\u001b[2m:\u001b[0m\u001b]8;id=844307;file:///Users/Nok_Lam_Chan/miniconda3/envs/kedro_core/lib/python3.8/site-packages/matplotlib/__init__.py#858\u001b\\\u001b[2m858\u001b[0m\u001b]8;;\u001b\\\n",
       "\u001b[2;36m                    \u001b[0m         Bad key axes.location in file                                          \u001b[2m               \u001b[0m\n",
       "\u001b[2;36m                    \u001b[0m         \u001b[35m/Users/Nok_Lam_Chan/miniconda3/envs/kedro_core/lib/python3.8/site-pack\u001b[0m \u001b[2m               \u001b[0m\n",
       "\u001b[2;36m                    \u001b[0m         \u001b[35mages/matplotlib/mpl-data/stylelib/\u001b[0m\u001b[95mpresentation.mplstyle\u001b[0m, line \u001b[1;36m4\u001b[0m        \u001b[2m               \u001b[0m\n",
       "\u001b[2;36m                    \u001b[0m         \u001b[1m(\u001b[0m\u001b[32m\"axes.location: 'left'\"\u001b[0m\u001b[1m)\u001b[0m                                              \u001b[2m               \u001b[0m\n",
       "\u001b[2;36m                    \u001b[0m         You probably need to get an updated matplotlibrc file from             \u001b[2m               \u001b[0m\n",
       "\u001b[2;36m                    \u001b[0m         \u001b[4;94mhttps://github.com/matplotlib/matplotlib/blob/v3.3.4/matplotlibrc.temp\u001b[0m \u001b[2m               \u001b[0m\n",
       "\u001b[2;36m                    \u001b[0m         \u001b[4;94mlate\u001b[0m                                                                   \u001b[2m               \u001b[0m\n",
       "\u001b[2;36m                    \u001b[0m         or from the matplotlib source distribution                             \u001b[2m               \u001b[0m\n"
      ]
     },
     "metadata": {},
     "output_type": "display_data"
    }
   ],
   "source": [
    "#| export\n",
    "def run_viz_lite(load_file, port=None, host=None) -> None:\n",
    "    \"\"\"\n",
    "    Line magic function to start kedro viz. It calls a kedro viz in a process and displays it in\n",
    "    the Jupyter notebook environment.\n",
    "\n",
    "    Args:\n",
    "        port: TCP port that viz will listen to. Defaults to 4141.\n",
    "        local_ns: Local namespace with local variables of the scope where the line magic\n",
    "            is invoked. This argument must be in the signature, even though it is not\n",
    "            used. This is because the Kedro IPython extension registers line magics with\n",
    "            needs_local_scope.\n",
    "            https://ipython.readthedocs.io/en/stable/config/custommagics.html\n",
    "\n",
    "    \"\"\"\n",
    "    port = port or DEFAULT_PORT  # Default argument doesn't work in Jupyter line magic.\n",
    "    host = _DATABRICKS_HOST if _is_databricks() else DEFAULT_HOST\n",
    "    port = _allocate_port(\n",
    "        host, start_at=int(port)\n",
    "    )  # Line magic provides string arguments by default, so we need to convert to int.\n",
    "\n",
    "    if port in _VIZ_PROCESSES and _VIZ_PROCESSES[port].is_alive():\n",
    "        _VIZ_PROCESSES[port].terminate()\n",
    "\n",
    "\n",
    "    viz_process = multiprocessing.Process(\n",
    "        target=run_server,\n",
    "        daemon=True,\n",
    "        kwargs={\"load_file\": load_file, \"port\": port, \"host\": host},\n",
    "    )\n",
    "\n",
    "    viz_process.start()\n",
    "    _VIZ_PROCESSES[port] = viz_process\n",
    "\n",
    "    _wait_for(func=_check_viz_up, host=host, port=port)\n",
    "\n",
    "    if _is_databricks():\n",
    "        _display_databricks_html(port)\n",
    "    else:\n",
    "        wrapper = f\"\"\"\n",
    "                <html lang=\"en\"><head></head><body style=\"width:100; height:100;\">\n",
    "                <iframe src=\"http://{host}:{port}/\" height=500 width=\"100%\"></iframe>\n",
    "                </body></html>\"\"\"\n",
    "        display(HTML(wrapper))\n"
   ]
  },
  {
   "cell_type": "code",
   "execution_count": 8,
   "metadata": {},
   "outputs": [],
   "source": [
    "#| hide\n",
    "import nbdev; nbdev.nbdev_export()"
   ]
  },
  {
   "cell_type": "code",
   "execution_count": null,
   "metadata": {},
   "outputs": [],
   "source": []
  }
 ],
 "metadata": {
  "kernelspec": {
   "display_name": "python3",
   "language": "python",
   "name": "python3"
  },
  "language_info": {
   "codemirror_mode": {
    "name": "ipython",
    "version": 3
   },
   "file_extension": ".py",
   "mimetype": "text/x-python",
   "name": "python",
   "nbconvert_exporter": "python",
   "pygments_lexer": "ipython3",
   "version": "3.8.5"
  }
 },
 "nbformat": 4,
 "nbformat_minor": 4
}
